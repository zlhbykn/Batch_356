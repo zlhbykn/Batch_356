{
 "cells": [
  {
   "cell_type": "code",
   "execution_count": 2,
   "id": "88b8976b",
   "metadata": {},
   "outputs": [],
   "source": [
    "# versiyon 2 için oluşturulmuştur"
   ]
  },
  {
   "cell_type": "code",
   "execution_count": null,
   "id": "8a316d6a",
   "metadata": {},
   "outputs": [],
   "source": []
  }
 ],
 "metadata": {
  "kernelspec": {
   "display_name": "Python 3",
   "language": "python",
   "name": "python3"
  },
  "language_info": {
   "codemirror_mode": {
    "name": "ipython",
    "version": 3
   },
   "file_extension": ".py",
   "mimetype": "text/x-python",
   "name": "python",
   "nbconvert_exporter": "python",
   "pygments_lexer": "ipython3",
   "version": "3.13.5"
  }
 },
 "nbformat": 4,
 "nbformat_minor": 5
}
